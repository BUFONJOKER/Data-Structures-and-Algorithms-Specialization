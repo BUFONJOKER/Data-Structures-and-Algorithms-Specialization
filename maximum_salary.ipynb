{
 "cells": [
  {
   "cell_type": "code",
   "execution_count": 9,
   "metadata": {},
   "outputs": [],
   "source": [
    "def max_salary(my_list):\n",
    "    \n",
    "    new_list = []\n",
    "    \n",
    "    max_num = my_list[0]\n",
    "    \n",
    "    for i in range(0,len(my_list)):\n",
    "        \n",
    "        for j in range (1, len(my_list)-1):\n",
    "            \n",
    "            if my_list[j] > max_num:\n",
    "                \n",
    "                max_num = my_list[j]\n",
    "                \n",
    "                new_list.append(max_num)\n",
    "                \n",
    "               \n",
    "                \n",
    "    return new_list\n"
   ]
  },
  {
   "cell_type": "code",
   "execution_count": 10,
   "metadata": {},
   "outputs": [
    {
     "data": {
      "text/plain": [
       "[]"
      ]
     },
     "execution_count": 10,
     "metadata": {},
     "output_type": "execute_result"
    }
   ],
   "source": [
    "my_list = [9,0,8,2,5]\n",
    "\n",
    "max_salary(my_list)"
   ]
  },
  {
   "cell_type": "code",
   "execution_count": 1,
   "metadata": {},
   "outputs": [
    {
     "name": "stdout",
     "output_type": "stream",
     "text": [
      "Minimum total waiting time: 10\n"
     ]
    }
   ],
   "source": [
    "def minimum_waiting_time(patients):\n",
    "    patients.sort()  # Sort the list of patients in ascending order of treatment time\n",
    "    total_waiting_time = 0\n",
    "    for i in range(len(patients)):\n",
    "        waiting_time = patients[i] * (len(patients) - i - 1)\n",
    "        total_waiting_time += waiting_time\n",
    "    return total_waiting_time\n",
    "\n",
    "# Example usage:\n",
    "patients = [5, 2, 1, 3]\n",
    "print(\"Minimum total waiting time:\", minimum_waiting_time(patients))\n"
   ]
  },
  {
   "cell_type": "code",
   "execution_count": null,
   "metadata": {},
   "outputs": [],
   "source": []
  }
 ],
 "metadata": {
  "kernelspec": {
   "display_name": "Python 3",
   "language": "python",
   "name": "python3"
  },
  "language_info": {
   "codemirror_mode": {
    "name": "ipython",
    "version": 3
   },
   "file_extension": ".py",
   "mimetype": "text/x-python",
   "name": "python",
   "nbconvert_exporter": "python",
   "pygments_lexer": "ipython3",
   "version": "3.11.7"
  }
 },
 "nbformat": 4,
 "nbformat_minor": 2
}
