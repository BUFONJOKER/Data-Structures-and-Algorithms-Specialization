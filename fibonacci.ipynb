{
 "cells": [
  {
   "cell_type": "code",
   "execution_count": 1,
   "metadata": {},
   "outputs": [],
   "source": [
    "import sys\n",
    "def fibonacci(n):\n",
    "    sys.set_int_max_str_digits(100000000)    \n",
    "    first = 0\n",
    "    \n",
    "    second = 1\n",
    "    \n",
    "    term = 0\n",
    "    \n",
    "    if n == 0:\n",
    "        print(first)\n",
    "        \n",
    "    if n == 1:\n",
    "        print(second)\n",
    "    \n",
    "    for i in range(2,n+1):\n",
    "        \n",
    "        result = first + second\n",
    "        \n",
    "        if i == n:\n",
    "            print(result)\n",
    "       \n",
    "        first = second\n",
    "        \n",
    "        second = result"
   ]
  },
  {
   "cell_type": "code",
   "execution_count": 2,
   "metadata": {},
   "outputs": [
    {
     "name": "stdout",
     "output_type": "stream",
     "text": [
      "12586269025\n"
     ]
    }
   ],
   "source": [
    "fibonacci(50)"
   ]
  },
  {
   "cell_type": "code",
   "execution_count": 2,
   "metadata": {},
   "outputs": [],
   "source": [
    "import sys\n",
    "sys.set_int_max_str_digits(100000000)   \n",
    "def fibonacci_with_list(n):\n",
    "    \n",
    "    my_list = [0,1]\n",
    "    \n",
    "    if n<=1:\n",
    "        return n \n",
    "    \n",
    "    for i in range(2,n+1):\n",
    "        \n",
    "        my_list.append(my_list[i-1] + my_list[i-2])\n",
    "\n",
    "    return my_list[n]"
   ]
  },
  {
   "cell_type": "code",
   "execution_count": 3,
   "metadata": {},
   "outputs": [],
   "source": [
    "fibonacci_with_list(100)"
   ]
  },
  {
   "cell_type": "code",
   "execution_count": 5,
   "metadata": {},
   "outputs": [],
   "source": [
    "def fibonacci_recursive(n):\n",
    "    if n<=1:\n",
    "        return n\n",
    "    else:\n",
    "        return fibonacci_recursive(n-1) + fibonacci_recursive(n-2)"
   ]
  },
  {
   "cell_type": "code",
   "execution_count": 1,
   "metadata": {},
   "outputs": [],
   "source": [
    "import sys\n",
    "sys.set_int_max_str_digits(1000000000)\n",
    "def calc_fib(n):\n",
    "    z = []\n",
    "    z.append(0)\n",
    "    z.append(1)\n",
    "\n",
    "    if n <= 1:\n",
    "        return n\n",
    "\n",
    "    else:\n",
    "        for x in range(2, n + 1):\n",
    "            z.append(z[x - 1] + z[x - 2])\n",
    "        return z[-1]\n"
   ]
  },
  {
   "cell_type": "code",
   "execution_count": 2,
   "metadata": {},
   "outputs": [
    {
     "data": {
      "text/plain": [
       "43466557686937456435688527675040625802564660517371780402481729089536555417949051890403879840079255169295922593080322634775209689623239873322471161642996440906533187938298969649928516003704476137795166849228875"
      ]
     },
     "execution_count": 2,
     "metadata": {},
     "output_type": "execute_result"
    }
   ],
   "source": [
    "calc_fib(1000)"
   ]
  },
  {
   "cell_type": "code",
   "execution_count": 1,
   "metadata": {},
   "outputs": [],
   "source": [
    "# fast for fibonacci term % any number\n",
    "\n",
    "def pisano(m):\n",
    "    \n",
    "    previous, current = 0, 1\n",
    "\n",
    "    for i in range(0, m*m):\n",
    "        \n",
    "        next = (current + previous) % m\n",
    "\n",
    "        previous = current\n",
    "        \n",
    "        current = next\n",
    "\n",
    "        if previous == 0 and current == 1:\n",
    "            \n",
    "            return i + 1\n",
    "        \n",
    "def fibonacci_modedulo(n, m):\n",
    "    \n",
    "    pisano_period = pisano(m)\n",
    "    \n",
    "    n = n % pisano_period\n",
    "    \n",
    "    previous, current = 0, 1\n",
    "    \n",
    "    if n == 0:\n",
    "        return 0\n",
    "    \n",
    "    elif n == 1:\n",
    "        return 1\n",
    "    \n",
    "    for i in range(n-1):\n",
    "        \n",
    "        next = previous + current\n",
    "        \n",
    "        previous = current\n",
    "        \n",
    "        current = next\n",
    "    \n",
    "    return current % m"
   ]
  },
  {
   "cell_type": "code",
   "execution_count": 2,
   "metadata": {},
   "outputs": [
    {
     "data": {
      "text/plain": [
       "151"
      ]
     },
     "execution_count": 2,
     "metadata": {},
     "output_type": "execute_result"
    }
   ],
   "source": [
    "fibonacci_modedulo(2816213588, 239)"
   ]
  },
  {
   "cell_type": "code",
   "execution_count": 8,
   "metadata": {},
   "outputs": [],
   "source": [
    "def last_digit_of_sum_calc_fib(n):\n",
    "    z = []\n",
    "    z.append(0)\n",
    "    z.append(1)\n",
    "\n",
    "    if n <= 1:\n",
    "        return n\n",
    "\n",
    "    else:\n",
    "        for x in range(2, n + 1):\n",
    "            z.append(z[x - 1] + z[x - 2])\n",
    "        \n",
    "        sum = 0\n",
    "        for i in z:\n",
    "            sum+=i\n",
    "        \n",
    "        return sum\n"
   ]
  },
  {
   "cell_type": "code",
   "execution_count": 10,
   "metadata": {},
   "outputs": [
    {
     "data": {
      "text/plain": [
       "5"
      ]
     },
     "execution_count": 10,
     "metadata": {},
     "output_type": "execute_result"
    }
   ],
   "source": [
    "last_digit_of_sum_calc_fib(100) % 10"
   ]
  },
  {
   "cell_type": "code",
   "execution_count": 6,
   "metadata": {},
   "outputs": [
    {
     "data": {
      "text/plain": [
       "5"
      ]
     },
     "execution_count": 6,
     "metadata": {},
     "output_type": "execute_result"
    }
   ],
   "source": [
    "27372692193078999175 % 10 "
   ]
  },
  {
   "cell_type": "code",
   "execution_count": 12,
   "metadata": {},
   "outputs": [],
   "source": [
    "def sum_from_a_to_b_fib(a,b):\n",
    "    z = []\n",
    "    z.append(0)\n",
    "    z.append(1)\n",
    "    \n",
    "    sum_list = []\n",
    "\n",
    "    if b <= 1:\n",
    "        return b\n",
    "\n",
    "    else:\n",
    "        for x in range(2, b + 1):\n",
    "            z.append(z[x - 1] + z[x - 2])\n",
    "            \n",
    "            if x >=a and x<=b:\n",
    "                sum_list.append(z[x-1]+z[x-2])\n",
    "        \n",
    "        sum = 0\n",
    "        for i in sum_list:\n",
    "            sum+=i\n",
    "        \n",
    "        return sum\n"
   ]
  },
  {
   "cell_type": "code",
   "execution_count": 16,
   "metadata": {},
   "outputs": [
    {
     "data": {
      "text/plain": [
       "2"
      ]
     },
     "execution_count": 16,
     "metadata": {},
     "output_type": "execute_result"
    }
   ],
   "source": [
    "sum_from_a_to_b_fib(10,200) % 10"
   ]
  },
  {
   "cell_type": "code",
   "execution_count": 68,
   "metadata": {},
   "outputs": [],
   "source": [
    "def sum_of_square_of_fib(n):\n",
    "   \n",
    "    square_z = []\n",
    "    square_z.append(0)\n",
    "    square_z.append(1)\n",
    "    \n",
    "    z=[]\n",
    "    z.append(0)\n",
    "    z.append(1)\n",
    "    \n",
    "   \n",
    "\n",
    "    if n <= 1:\n",
    "        return n\n",
    "\n",
    "    else:\n",
    "        for x in range(2, n + 1):\n",
    "            result = (z[x - 1]) + (z[x - 2])\n",
    "            square_result = result**2\n",
    "            \n",
    "            z.append(result)\n",
    "            \n",
    "            square_z.append(square_result)\n",
    "            \n",
    "        \n",
    "        \n",
    "        sum = 0\n",
    "        for i in square_z:\n",
    "            sum+=i\n",
    "        \n",
    "        return sum"
   ]
  },
  {
   "cell_type": "code",
   "execution_count": 70,
   "metadata": {},
   "outputs": [
    {
     "data": {
      "text/plain": [
       "1"
      ]
     },
     "execution_count": 70,
     "metadata": {},
     "output_type": "execute_result"
    }
   ],
   "source": [
    "sum_of_square_of_fib(73) % 10"
   ]
  },
  {
   "cell_type": "code",
   "execution_count": 40,
   "metadata": {},
   "outputs": [
    {
     "name": "stdout",
     "output_type": "stream",
     "text": [
      "[0, 1, 1, 4, 25, 841, 749956, 563696135209]\n"
     ]
    },
    {
     "data": {
      "text/plain": [
       "563696886037"
      ]
     },
     "execution_count": 40,
     "metadata": {},
     "output_type": "execute_result"
    }
   ],
   "source": [
    "sum_of_square_of_fib(7)"
   ]
  },
  {
   "cell_type": "code",
   "execution_count": null,
   "metadata": {},
   "outputs": [],
   "source": []
  }
 ],
 "metadata": {
  "kernelspec": {
   "display_name": "Python 3",
   "language": "python",
   "name": "python3"
  },
  "language_info": {
   "codemirror_mode": {
    "name": "ipython",
    "version": 3
   },
   "file_extension": ".py",
   "mimetype": "text/x-python",
   "name": "python",
   "nbconvert_exporter": "python",
   "pygments_lexer": "ipython3",
   "version": "3.11.7"
  }
 },
 "nbformat": 4,
 "nbformat_minor": 2
}
