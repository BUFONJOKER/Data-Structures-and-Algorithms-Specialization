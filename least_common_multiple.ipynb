{
 "cells": [
  {
   "cell_type": "code",
   "execution_count": 18,
   "metadata": {},
   "outputs": [],
   "source": [
    "# slow\n",
    "def lcm(a, b):\n",
    "    \n",
    "    less_num = a\n",
    "\n",
    "\n",
    "    if b<a:\n",
    "        less_num = b\n",
    "\n",
    "    multiple = less_num\n",
    "\n",
    "    while True:\n",
    "\n",
    "        if multiple % a == 0 and multiple % b == 0:\n",
    "            break\n",
    "\n",
    "        multiple+=less_num \n",
    "    return multiple"
   ]
  },
  {
   "cell_type": "code",
   "execution_count": 22,
   "metadata": {},
   "outputs": [
    {
     "data": {
      "text/plain": [
       "243850785"
      ]
     },
     "execution_count": 22,
     "metadata": {},
     "output_type": "execute_result"
    }
   ],
   "source": [
    "lcm(12345, 98765)"
   ]
  },
  {
   "cell_type": "code",
   "execution_count": 20,
   "metadata": {},
   "outputs": [],
   "source": [
    "# fast\n",
    "def gcd(a,b):\n",
    "    \n",
    "    if b == 0:\n",
    "    \n",
    "        return a\n",
    "    \n",
    "    remainder = a % b\n",
    "    \n",
    "    return gcd(b,remainder)\n",
    "\n",
    "def lcm_with_gcd(a,b):\n",
    "    result = (a*b)/(gcd(a,b))\n",
    "    return result\n"
   ]
  },
  {
   "cell_type": "code",
   "execution_count": 21,
   "metadata": {},
   "outputs": [
    {
     "data": {
      "text/plain": [
       "27893302479380336178159169887691932889854939659468192704643465216"
      ]
     },
     "execution_count": 21,
     "metadata": {},
     "output_type": "execute_result"
    }
   ],
   "source": [
    "round(lcm_with_gcd(761457761457467971960649255533674496,614573761457467971960649255533674496))"
   ]
  }
 ],
 "metadata": {
  "kernelspec": {
   "display_name": "Python 3",
   "language": "python",
   "name": "python3"
  },
  "language_info": {
   "codemirror_mode": {
    "name": "ipython",
    "version": 3
   },
   "file_extension": ".py",
   "mimetype": "text/x-python",
   "name": "python",
   "nbconvert_exporter": "python",
   "pygments_lexer": "ipython3",
   "version": "3.11.7"
  }
 },
 "nbformat": 4,
 "nbformat_minor": 2
}
